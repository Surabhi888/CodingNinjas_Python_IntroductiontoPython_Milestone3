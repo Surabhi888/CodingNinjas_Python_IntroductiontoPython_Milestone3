{
 "cells": [
  {
   "cell_type": "code",
   "execution_count": null,
   "metadata": {},
   "outputs": [],
   "source": [
    "from os import *\n",
    "from sys import *\n",
    "from collections import *\n",
    "from math import *\n",
    "\n",
    "from os import *\n",
    "from sys import *\n",
    "from collections import *\n",
    "from math import *\n",
    "\n",
    "from os import *\n",
    "from sys import *\n",
    "from collections import *\n",
    "from math import *\n",
    "\n",
    "from os import *\n",
    "from sys import *\n",
    "from collections import *\n",
    "from math import *\n",
    "\n",
    "from os import *\n",
    "from sys import *\n",
    "from collections import *\n",
    "from math import *\n",
    "\n",
    "## Read input as specified in the question.\n",
    "## Print output as specified in the question.\n",
    "def lastindex(arr,x):\n",
    "    l = len(arr)\n",
    "    if l ==0:\n",
    "        return -1\n",
    "    smalleroutput = arr[1:]\n",
    "    smallerlistoutput =lastindex(smalleroutput,x)\n",
    "    if smallerlistoutput != -1:\n",
    "        return smallerlistoutput + 1\n",
    "    else:\n",
    "        if arr[0]==x:\n",
    "            return 0\n",
    "        else:\n",
    "            return -1\n",
    "        \n",
    "from sys import setrecursionlimit\n",
    "setrecursionlimit(11000)\n",
    "n=int(input())\n",
    "arr=list(int(i) for i in input().strip().split(' '))\n",
    "x=int(input())\n",
    "print(lastindex(arr, x))\n"
   ]
  }
 ],
 "metadata": {
  "language_info": {
   "name": "python"
  },
  "orig_nbformat": 4
 },
 "nbformat": 4,
 "nbformat_minor": 2
}
